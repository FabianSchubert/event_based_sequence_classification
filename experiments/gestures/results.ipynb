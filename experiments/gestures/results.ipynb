{
 "cells": [
  {
   "cell_type": "code",
   "execution_count": 1,
   "metadata": {},
   "outputs": [],
   "source": [
    "%matplotlib inline\n",
    "import numpy as np\n",
    "import matplotlib.pyplot as plt\n",
    "import pandas as pd\n",
    "from os import listdir\n",
    "from os.path import isfile, join\n",
    "import seaborn as sns\n",
    "plt.style.use(\"https://raw.githubusercontent.com/FabianSchubert/mpl_style/main/custom_style.mplstyle\")"
   ]
  },
  {
   "cell_type": "code",
   "execution_count": 66,
   "metadata": {},
   "outputs": [],
   "source": [
    "results_files = [f for f in listdir(\"./results_data/\") if isfile(join(\"./results_data/\", f))]\n",
    "\n",
    "for k, file in enumerate(results_files):\n",
    "    _data = np.load(join(\"./results_data/\", file))\n",
    "    if k==0:\n",
    "        df_results = pd.DataFrame({'train time': _data[\"train_time\"],\n",
    "                                    'false positive': _data[\"false_pos\"],\n",
    "                                    'false negative': _data[\"false_neg\"],\n",
    "                                    \"error\": _data[\"err\"],\n",
    "                                    \"event based\": _data[\"event_based\"]}, index=[k])\n",
    "    else:\n",
    "        df_results = pd.concat([df_results, pd.DataFrame({'train time': _data[\"train_time\"],\n",
    "                                    'false positive': _data[\"false_pos\"],\n",
    "                                    'false negative': _data[\"false_neg\"],\n",
    "                                    \"error\": _data[\"err\"],\n",
    "                                    \"event based\": _data[\"event_based\"]}, index=[k])], ignore_index=True)"
   ]
  },
  {
   "cell_type": "code",
   "execution_count": 67,
   "metadata": {},
   "outputs": [
    {
     "data": {
      "text/html": [
       "<div>\n",
       "<style scoped>\n",
       "    .dataframe tbody tr th:only-of-type {\n",
       "        vertical-align: middle;\n",
       "    }\n",
       "\n",
       "    .dataframe tbody tr th {\n",
       "        vertical-align: top;\n",
       "    }\n",
       "\n",
       "    .dataframe thead th {\n",
       "        text-align: right;\n",
       "    }\n",
       "</style>\n",
       "<table border=\"1\" class=\"dataframe\">\n",
       "  <thead>\n",
       "    <tr style=\"text-align: right;\">\n",
       "      <th></th>\n",
       "      <th>train time</th>\n",
       "      <th>false positive</th>\n",
       "      <th>false negative</th>\n",
       "      <th>error</th>\n",
       "      <th>event based</th>\n",
       "    </tr>\n",
       "  </thead>\n",
       "  <tbody>\n",
       "    <tr>\n",
       "      <th>0</th>\n",
       "      <td>114.308417</td>\n",
       "      <td>0.049505</td>\n",
       "      <td>0.01</td>\n",
       "      <td>0.000000</td>\n",
       "      <td>False</td>\n",
       "    </tr>\n",
       "    <tr>\n",
       "      <th>1</th>\n",
       "      <td>65.588881</td>\n",
       "      <td>0.039604</td>\n",
       "      <td>0.05</td>\n",
       "      <td>0.021053</td>\n",
       "      <td>True</td>\n",
       "    </tr>\n",
       "    <tr>\n",
       "      <th>2</th>\n",
       "      <td>128.459095</td>\n",
       "      <td>0.049505</td>\n",
       "      <td>0.03</td>\n",
       "      <td>0.020619</td>\n",
       "      <td>False</td>\n",
       "    </tr>\n",
       "    <tr>\n",
       "      <th>3</th>\n",
       "      <td>64.622144</td>\n",
       "      <td>0.009901</td>\n",
       "      <td>0.08</td>\n",
       "      <td>0.032609</td>\n",
       "      <td>True</td>\n",
       "    </tr>\n",
       "    <tr>\n",
       "      <th>4</th>\n",
       "      <td>114.929506</td>\n",
       "      <td>0.059406</td>\n",
       "      <td>0.01</td>\n",
       "      <td>0.000000</td>\n",
       "      <td>False</td>\n",
       "    </tr>\n",
       "    <tr>\n",
       "      <th>5</th>\n",
       "      <td>65.612040</td>\n",
       "      <td>0.029703</td>\n",
       "      <td>0.13</td>\n",
       "      <td>0.080460</td>\n",
       "      <td>True</td>\n",
       "    </tr>\n",
       "    <tr>\n",
       "      <th>6</th>\n",
       "      <td>70.862259</td>\n",
       "      <td>0.019802</td>\n",
       "      <td>0.04</td>\n",
       "      <td>0.072917</td>\n",
       "      <td>True</td>\n",
       "    </tr>\n",
       "    <tr>\n",
       "      <th>7</th>\n",
       "      <td>67.174179</td>\n",
       "      <td>0.039604</td>\n",
       "      <td>0.12</td>\n",
       "      <td>0.079545</td>\n",
       "      <td>True</td>\n",
       "    </tr>\n",
       "    <tr>\n",
       "      <th>8</th>\n",
       "      <td>68.511834</td>\n",
       "      <td>0.009901</td>\n",
       "      <td>0.06</td>\n",
       "      <td>0.063830</td>\n",
       "      <td>True</td>\n",
       "    </tr>\n",
       "    <tr>\n",
       "      <th>9</th>\n",
       "      <td>65.723761</td>\n",
       "      <td>0.039604</td>\n",
       "      <td>0.05</td>\n",
       "      <td>0.052632</td>\n",
       "      <td>True</td>\n",
       "    </tr>\n",
       "    <tr>\n",
       "      <th>10</th>\n",
       "      <td>111.544902</td>\n",
       "      <td>0.079208</td>\n",
       "      <td>0.03</td>\n",
       "      <td>0.051546</td>\n",
       "      <td>False</td>\n",
       "    </tr>\n",
       "    <tr>\n",
       "      <th>11</th>\n",
       "      <td>121.277081</td>\n",
       "      <td>0.059406</td>\n",
       "      <td>0.01</td>\n",
       "      <td>0.000000</td>\n",
       "      <td>False</td>\n",
       "    </tr>\n",
       "    <tr>\n",
       "      <th>12</th>\n",
       "      <td>69.389674</td>\n",
       "      <td>0.019802</td>\n",
       "      <td>0.04</td>\n",
       "      <td>0.062500</td>\n",
       "      <td>True</td>\n",
       "    </tr>\n",
       "    <tr>\n",
       "      <th>13</th>\n",
       "      <td>67.702481</td>\n",
       "      <td>0.039604</td>\n",
       "      <td>0.09</td>\n",
       "      <td>0.043956</td>\n",
       "      <td>True</td>\n",
       "    </tr>\n",
       "    <tr>\n",
       "      <th>14</th>\n",
       "      <td>65.934593</td>\n",
       "      <td>0.019802</td>\n",
       "      <td>0.03</td>\n",
       "      <td>0.072165</td>\n",
       "      <td>True</td>\n",
       "    </tr>\n",
       "  </tbody>\n",
       "</table>\n",
       "</div>"
      ],
      "text/plain": [
       "    train time  false positive  false negative     error  event based\n",
       "0   114.308417        0.049505            0.01  0.000000        False\n",
       "1    65.588881        0.039604            0.05  0.021053         True\n",
       "2   128.459095        0.049505            0.03  0.020619        False\n",
       "3    64.622144        0.009901            0.08  0.032609         True\n",
       "4   114.929506        0.059406            0.01  0.000000        False\n",
       "5    65.612040        0.029703            0.13  0.080460         True\n",
       "6    70.862259        0.019802            0.04  0.072917         True\n",
       "7    67.174179        0.039604            0.12  0.079545         True\n",
       "8    68.511834        0.009901            0.06  0.063830         True\n",
       "9    65.723761        0.039604            0.05  0.052632         True\n",
       "10  111.544902        0.079208            0.03  0.051546        False\n",
       "11  121.277081        0.059406            0.01  0.000000        False\n",
       "12   69.389674        0.019802            0.04  0.062500         True\n",
       "13   67.702481        0.039604            0.09  0.043956         True\n",
       "14   65.934593        0.019802            0.03  0.072165         True"
      ]
     },
     "execution_count": 67,
     "metadata": {},
     "output_type": "execute_result"
    }
   ],
   "source": [
    "df_results"
   ]
  },
  {
   "cell_type": "code",
   "execution_count": 12,
   "metadata": {},
   "outputs": [
    {
     "data": {
      "text/plain": [
       "train time        89.368714\n",
       "false positive     0.009901\n",
       "false negative     0.130000\n",
       "error              0.068966\n",
       "event based        1.000000\n",
       "dtype: float64"
      ]
     },
     "execution_count": 12,
     "metadata": {},
     "output_type": "execute_result"
    }
   ],
   "source": [
    "df_results[df_results[\"event based\"]].mean()"
   ]
  },
  {
   "cell_type": "code",
   "execution_count": 13,
   "metadata": {},
   "outputs": [
    {
     "data": {
      "text/plain": [
       "train time        127.307525\n",
       "false positive      0.062376\n",
       "false negative      0.034000\n",
       "error               0.075590\n",
       "event based         0.000000\n",
       "dtype: float64"
      ]
     },
     "execution_count": 13,
     "metadata": {},
     "output_type": "execute_result"
    }
   ],
   "source": [
    "\n",
    "df_results[df_results[\"event based\"] == False].mean()"
   ]
  },
  {
   "cell_type": "code",
   "execution_count": 70,
   "metadata": {},
   "outputs": [
    {
     "data": {
      "image/png": "[encoded data removed]",
      "text/plain": [
       "<Figure size 550x300 with 6 Axes>"
      ]
     },
     "metadata": {},
     "output_type": "display_data"
    }
   ],
   "source": [
    "fig, ax = plt.subplots(2, 4, figsize=(5.5,3))\n",
    "\n",
    "sns.barplot(data=df_results, x=\"event based\", y=\"train time\", ax=ax[0])\n",
    "sns.barplot(data=df_results, x=\"event based\", y=\"error\", ax=ax[1])\n",
    "sns.barplot(data=df_results, x=\"event based\", y=\"false positive\", ax=ax[2])\n",
    "sns.barplot(data=df_results, x=\"event based\", y=\"false negative\", ax=ax[3])\n",
    "\n",
    "ax[0].set_ylabel(\"Training Time [s]\")\n",
    "ax[1].set_ylabel(\"Test Error\")\n",
    "\n",
    "fig.tight_layout(pad=0.1)\n",
    "\n",
    "plt.show()"
   ]
  },
  {
   "cell_type": "code",
   "execution_count": null,
   "metadata": {},
   "outputs": [],
   "source": []
  }
 ],
 "metadata": {
  "kernelspec": {
   "display_name": "base",
   "language": "python",
   "name": "python3"
  },
  "language_info": {
   "codemirror_mode": {
    "name": "ipython",
    "version": 3
   },
   "file_extension": ".py",
   "mimetype": "text/x-python",
   "name": "python",
   "nbconvert_exporter": "python",
   "pygments_lexer": "ipython3",
   "version": "3.11.8"
  }
 },
 "nbformat": 4,
 "nbformat_minor": 2
}

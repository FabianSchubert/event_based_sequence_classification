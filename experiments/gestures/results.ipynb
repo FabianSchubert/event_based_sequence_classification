{
 "cells": [
  {
   "cell_type": "code",
   "execution_count": 7,
   "metadata": {},
   "outputs": [],
   "source": [
    "%matplotlib inline\n",
    "import numpy as np\n",
    "import matplotlib.pyplot as plt\n",
    "import pandas as pd\n",
    "from os import listdir\n",
    "from os.path import isfile, join\n",
    "import seaborn as sns\n",
    "plt.style.use(\"https://raw.githubusercontent.com/FabianSchubert/mpl_style/main/custom_style.mplstyle\")"
   ]
  },
  {
   "cell_type": "code",
   "execution_count": 8,
   "metadata": {},
   "outputs": [],
   "source": [
    "results_files = [f for f in listdir(\"./results_data/\") if isfile(join(\"./results_data/\", f))]\n",
    "\n",
    "for k, file in enumerate(results_files):\n",
    "    _data = np.load(join(\"./results_data/\", file))\n",
    "    if k==0:\n",
    "        df_results = pd.DataFrame({'train time': _data[\"train_time\"],\n",
    "                                    'false positive': _data[\"false_pos\"],\n",
    "                                    'false negative': _data[\"false_neg\"],\n",
    "                                    \"error\": _data[\"err\"],\n",
    "                                    \"event based\": _data[\"event_based\"]}, index=[k])\n",
    "    else:\n",
    "        df_results = pd.concat([df_results, pd.DataFrame({'train time': _data[\"train_time\"],\n",
    "                                    'false positive': _data[\"false_pos\"],\n",
    "                                    'false negative': _data[\"false_neg\"],\n",
    "                                    \"error\": _data[\"err\"],\n",
    "                                    \"event based\": _data[\"event_based\"]}, index=[k])], ignore_index=True)"
   ]
  },
  {
   "cell_type": "code",
   "execution_count": 9,
   "metadata": {},
   "outputs": [
    {
     "data": {
      "text/html": [
       "<div>\n",
       "<style scoped>\n",
       "    .dataframe tbody tr th:only-of-type {\n",
       "        vertical-align: middle;\n",
       "    }\n",
       "\n",
       "    .dataframe tbody tr th {\n",
       "        vertical-align: top;\n",
       "    }\n",
       "\n",
       "    .dataframe thead th {\n",
       "        text-align: right;\n",
       "    }\n",
       "</style>\n",
       "<table border=\"1\" class=\"dataframe\">\n",
       "  <thead>\n",
       "    <tr style=\"text-align: right;\">\n",
       "      <th></th>\n",
       "      <th>train time</th>\n",
       "      <th>false positive</th>\n",
       "      <th>false negative</th>\n",
       "      <th>error</th>\n",
       "      <th>event based</th>\n",
       "    </tr>\n",
       "  </thead>\n",
       "  <tbody>\n",
       "    <tr>\n",
       "      <th>0</th>\n",
       "      <td>50.18293</td>\n",
       "      <td>0.237624</td>\n",
       "      <td>0.02</td>\n",
       "      <td>0.163265</td>\n",
       "      <td>False</td>\n",
       "    </tr>\n",
       "  </tbody>\n",
       "</table>\n",
       "</div>"
      ],
      "text/plain": [
       "   train time  false positive  false negative     error  event based\n",
       "0    50.18293        0.237624            0.02  0.163265        False"
      ]
     },
     "execution_count": 9,
     "metadata": {},
     "output_type": "execute_result"
    }
   ],
   "source": [
    "df_results"
   ]
  },
  {
   "cell_type": "code",
   "execution_count": 22,
   "metadata": {},
   "outputs": [
    {
     "data": {
      "text/plain": [
       "train time       NaN\n",
       "false positive   NaN\n",
       "false negative   NaN\n",
       "error            NaN\n",
       "event based      NaN\n",
       "dtype: float64"
      ]
     },
     "execution_count": 22,
     "metadata": {},
     "output_type": "execute_result"
    }
   ],
   "source": [
    "df_results[df_results[\"event based\"]].mean()"
   ]
  },
  {
   "cell_type": "code",
   "execution_count": 4,
   "metadata": {},
   "outputs": [
    {
     "data": {
      "text/plain": [
       "train time        108.333106\n",
       "false positive      0.194030\n",
       "false negative      0.065000\n",
       "error               0.085561\n",
       "event based         0.000000\n",
       "dtype: float64"
      ]
     },
     "execution_count": 4,
     "metadata": {},
     "output_type": "execute_result"
    }
   ],
   "source": [
    "\n",
    "df_results[df_results[\"event based\"] == False].mean()"
   ]
  },
  {
   "cell_type": "code",
   "execution_count": 22,
   "metadata": {},
   "outputs": [
    {
     "data": {
      "image/png": "[encoded data removed]",
      "text/plain": [
       "<Figure size 550x300 with 2 Axes>"
      ]
     },
     "metadata": {},
     "output_type": "display_data"
    }
   ],
   "source": [
    "fig, ax = plt.subplots(1, 2, figsize=(5.5,3))\n",
    "\n",
    "sns.barplot(data=df_results, x=\"event based\", y=\"train time\", ax=ax[0])\n",
    "sns.barplot(data=df_results, x=\"event based\", y=\"error\", ax=ax[1])\n",
    "\n",
    "ax[0].set_ylabel(\"Training Time [s]\")\n",
    "ax[1].set_ylabel(\"Test Error\")\n",
    "\n",
    "fig.tight_layout(pad=0.1)\n",
    "\n",
    "plt.show()"
   ]
  },
  {
   "cell_type": "code",
   "execution_count": null,
   "metadata": {},
   "outputs": [],
   "source": []
  }
 ],
 "metadata": {
  "kernelspec": {
   "display_name": "base",
   "language": "python",
   "name": "python3"
  },
  "language_info": {
   "codemirror_mode": {
    "name": "ipython",
    "version": 3
   },
   "file_extension": ".py",
   "mimetype": "text/x-python",
   "name": "python",
   "nbconvert_exporter": "python",
   "pygments_lexer": "ipython3",
   "version": "3.11.8"
  }
 },
 "nbformat": 4,
 "nbformat_minor": 2
}
